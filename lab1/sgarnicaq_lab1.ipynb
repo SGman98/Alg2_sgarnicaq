{
 "cells": [
  {
   "cell_type": "markdown",
   "metadata": {},
   "source": [
    "# 01 Data Types and Data Structures"
   ]
  },
  {
   "cell_type": "markdown",
   "metadata": {},
   "source": [
    "## Basic variable types\n",
    "\n",
    "String concatenation, is done with the + operator.\n",
    "\n",
    "Datatype of a variable can be determined by using the type() function.\n",
    "\n",
    "Datatypes are:\n",
    "- `int`, `float`, `bool`, `str`, `list`, `tuple`, `dict`, `set`, `None`\n",
    "\n",
    "Datatypes can be converted to each other using the following functions:\n",
    "\n",
    "- `int(x)`, `float(x)`, `bool(x)`, `str(x)`, `list(x)`, `tuple(x)`, `dict(x)`, `set(x)`"
   ]
  },
  {
   "cell_type": "code",
   "execution_count": 8,
   "metadata": {},
   "outputs": [
    {
     "name": "stdout",
     "output_type": "stream",
     "text": [
      "Welcome to the Algorithms class 101\n",
      "<class 'str'> Welcome to the Algorithms class 101\n",
      "<class 'str'> 101\n",
      "<class 'int'> 101\n",
      "<class 'float'> 101.0\n",
      "<class 'bool'> False\n"
     ]
    }
   ],
   "source": [
    "# String creation with single and double quotes\n",
    "string_welcome = \"Welcome to the\"\n",
    "string_name = 'Algorithms class'\n",
    "string_num = \"101\"\n",
    "# String concatenation\n",
    "string_welcome_name = string_welcome + \" \" + string_name + \" \" + string_num\n",
    "print(string_welcome_name)\n",
    "# Data type visualisation\n",
    "print(type(string_welcome_name), string_welcome_name)\n",
    "print(type(string_num), string_num)\n",
    "# Data type conversion\n",
    "my_num_int = int(string_num)\n",
    "print(type(my_num_int), str(my_num_int))\n",
    "\n",
    "my_num_float = float(string_num)\n",
    "print(type(my_num_float), str(my_num_float))\n",
    "\n",
    "my_bool = False\n",
    "print(type(my_bool), str(my_bool))"
   ]
  },
  {
   "cell_type": "markdown",
   "metadata": {},
   "source": [
    "## Basic Math Operations\n",
    "Python has a built-in math module with many functions.\n",
    "The basic math operations are:\n",
    "- `+`, `-`, `*`, `/`, `//`, `%`, `**`\n",
    "- addition, subtraction, multiplication, division, floor division, modulo, power"
   ]
  },
  {
   "cell_type": "code",
   "execution_count": 10,
   "metadata": {},
   "outputs": [
    {
     "name": "stdout",
     "output_type": "stream",
     "text": [
      "7 + 3 =  10\n",
      "7 - 3 =  4\n",
      "7 * 3 =  21\n",
      "7 / 3 =  2.3333333333333335\n",
      "7 // 3 =  2\n",
      "7 % 3 =  1\n",
      "7 ** 3 =  343\n",
      "a + b =  11\n",
      "a + b * b =  17\n"
     ]
    }
   ],
   "source": [
    "# Some math examples\n",
    "print(\"7 + 3 = \", 7 + 3)\n",
    "print(\"7 - 3 = \", 7 - 3)\n",
    "print(\"7 * 3 = \", 7 * 3)\n",
    "print(\"7 / 3 = \", 7 / 3)\n",
    "print(\"7 // 3 = \", 7 // 3)\n",
    "print(\"7 % 3 = \", 7 % 3)\n",
    "print(\"7 ** 3 = \", 7 ** 3)\n",
    "# It is possible to use the variables\n",
    "a = 8\n",
    "b = 3\n",
    "print(\"a + b = \", a + b)\n",
    "# And use multiple operations\n",
    "print(\"a + b * b = \", a + b * b)"
   ]
  },
  {
   "cell_type": "markdown",
   "metadata": {},
   "source": [
    "## Data Collections\n",
    "Python has different data structures:\n",
    "- `list`, `tuple`, `dict`, `set`\n",
    "Unlike other languages the datatype of the variables inside this data structures is not specified, and could be different for each variable.\n",
    "\n",
    "### **List:** ordered collection of items. Use with square brackets. a = [1, 2, 3]"
   ]
  },
  {
   "cell_type": "code",
   "execution_count": 16,
   "metadata": {},
   "outputs": [
    {
     "name": "stdout",
     "output_type": "stream",
     "text": [
      "my_list =  [1, 2, 3, 4, 5] length =  5 type =  <class 'list'>\n",
      "my_list[2] =  3\n",
      "my_list_2 =  [1, 2, 3, 4, 5, 'a', 'b', 'c'] length =  8 type =  <class 'list'>\n",
      "my_list_2[2:5] =  [3, 4, 5]\n",
      "my_list + my_list_2 =  [1, 2, 3, 4, 5, 1, 2, 3, 4, 5, 'a', 'b', 'c'] length =  13 type =  <class 'list'>\n"
     ]
    }
   ],
   "source": [
    "# List creation\n",
    "my_list = [1, 2, 3, 4, 5]\n",
    "print(\"my_list = \", my_list, \"length = \", len(my_list), \"type = \", type(my_list))\n",
    "# List indexing\n",
    "print(\"my_list[2] = \", my_list[2])\n",
    "# List multiple data types\n",
    "my_list_2 = [1, 2, 3, 4, 5, \"a\", \"b\", \"c\"]\n",
    "print(\"my_list_2 = \", my_list_2, \"length = \", len(my_list_2), \"type = \", type(my_list_2))\n",
    "# List slicing\n",
    "print(\"my_list_2[2:5] = \", my_list_2[2:5])\n",
    "# List concatenation\n",
    "my_list_3 = my_list + my_list_2\n",
    "print(\"my_list + my_list_2 = \", my_list_3, \"length = \", len(my_list_3), \"type = \", type(my_list_3))\n",
    "# List modification\n",
    "# append, insert, remove, pop, clear, list[index] = value"
   ]
  },
  {
   "cell_type": "markdown",
   "metadata": {},
   "source": [
    "### **Tuple:** ordered collection of items. Use with parentheses. a = (1, 2, 3)"
   ]
  },
  {
   "cell_type": "code",
   "execution_count": 19,
   "metadata": {},
   "outputs": [
    {
     "name": "stdout",
     "output_type": "stream",
     "text": [
      "my_tuple =  (1, 2, 3, 4, 5) length =  5 type =  <class 'tuple'>\n",
      "my_tuple[2] =  3\n",
      "my_tuple_2 =  (1, 2, 3, 4, 5, 'a', 'b', 'c') length =  8 type =  <class 'tuple'>\n",
      "my_tuple_2[2:5] =  (3, 4, 5)\n",
      "my_tuple + my_tuple_2 =  (1, 2, 3, 4, 5, 1, 2, 3, 4, 5, 'a', 'b', 'c') length =  13 type =  <class 'tuple'>\n",
      "my_tuple_4 =  (1, 2, 'a', 4, 5) length =  5 type =  <class 'tuple'>\n"
     ]
    }
   ],
   "source": [
    "# Tuples creation\n",
    "my_tuple = (1, 2, 3, 4, 5)\n",
    "print(\"my_tuple = \", my_tuple, \"length = \", len(my_tuple), \"type = \", type(my_tuple))\n",
    "# Tuples indexing\n",
    "print(\"my_tuple[2] = \", my_tuple[2])\n",
    "# Tuples multiple data types\n",
    "my_tuple_2 = (1, 2, 3, 4, 5, \"a\", \"b\", \"c\")\n",
    "print(\"my_tuple_2 = \", my_tuple_2, \"length = \", len(my_tuple_2), \"type = \", type(my_tuple_2))\n",
    "# Tuples slicing\n",
    "print(\"my_tuple_2[2:5] = \", my_tuple_2[2:5])\n",
    "# Tuples concatenation\n",
    "my_tuple_3 = my_tuple + my_tuple_2\n",
    "print(\"my_tuple + my_tuple_2 = \", my_tuple_3, \"length = \", len(my_tuple_3), \"type = \", type(my_tuple_3))\n",
    "# Tuples are immutable\n",
    "# one workaround is to convert the tuple to list modify it and convert back to tuple\n",
    "my_tuple_4 = list(my_tuple)\n",
    "my_tuple_4[2] = \"a\"\n",
    "my_tuple_4 = tuple(my_tuple_4)\n",
    "print(\"my_tuple_4 = \", my_tuple_4, \"length = \", len(my_tuple_4), \"type = \", type(my_tuple_4))"
   ]
  },
  {
   "cell_type": "markdown",
   "metadata": {},
   "source": [
    "### **Dict:** unordered collection of key-value pairs. Use with curly brackets. a = {'a': 1, 'b': 2}"
   ]
  },
  {
   "cell_type": "code",
   "execution_count": 22,
   "metadata": {},
   "outputs": [
    {
     "name": "stdout",
     "output_type": "stream",
     "text": [
      "my_dict =  {'a': 1, 'b': 2, 'c': 3} length =  3 type =  <class 'dict'>\n",
      "my_dict['a'] =  1\n",
      "my_dict_2 =  {'a': 1, 'b': 2, 'c': 3, 'd': 'a', 'e': 'b', 'f': 'c'} length =  6 type =  <class 'dict'>\n"
     ]
    }
   ],
   "source": [
    "# Dictionaries creation\n",
    "my_dict = {'a': 1, 'b': 2, 'c': 3}\n",
    "print(\"my_dict = \", my_dict, \"length = \", len(my_dict), \"type = \", type(my_dict))\n",
    "# Dictionaries indexing\n",
    "print(\"my_dict['a'] = \", my_dict['a'])\n",
    "# Dictionaries multiple data types\n",
    "my_dict_2 = {'a': 1, 'b': 2, 'c': 3, 'd': \"a\", 'e': \"b\", 'f': \"c\"}\n",
    "print(\"my_dict_2 = \", my_dict_2, \"length = \", len(my_dict_2), \"type = \", type(my_dict_2))\n",
    "# Dictionaries slicing is not possible\n",
    "# Dictionaries concatenation is not possible\n",
    "# Dictionaries modification\n",
    "# update, pop, clear, dict[key] = value"
   ]
  },
  {
   "cell_type": "markdown",
   "metadata": {},
   "source": [
    "### **Set:** unordered collection of unique items. Use with curly brackets. a = {1, 2, 3}"
   ]
  },
  {
   "cell_type": "code",
   "execution_count": 23,
   "metadata": {},
   "outputs": [
    {
     "name": "stdout",
     "output_type": "stream",
     "text": [
      "my_set =  {1, 2, 3, 4, 5} length =  5 type =  <class 'set'>\n",
      "my_set_2 =  {1, 2, 3, 4, 5, 'a', 'c', 'b'} length =  8 type =  <class 'set'>\n"
     ]
    }
   ],
   "source": [
    "# Sets creation\n",
    "my_set = {1, 2, 3, 4, 5}\n",
    "print(\"my_set = \", my_set, \"length = \", len(my_set), \"type = \", type(my_set))\n",
    "# Sets indexing is not possible\n",
    "# Sets multiple data types\n",
    "my_set_2 = {1, 2, 3, 4, 5, \"a\", \"b\", \"c\"}\n",
    "print(\"my_set_2 = \", my_set_2, \"length = \", len(my_set_2), \"type = \", type(my_set_2))\n",
    "# Sets slicing is not possible\n",
    "# Sets concatenation is not possible\n",
    "# Sets modification\n",
    "# add, remove, clear, set[index] = value"
   ]
  },
  {
   "cell_type": "markdown",
   "metadata": {},
   "source": [
    "## Common String Operations\n",
    "Some string operations are:\n",
    "slicing, concatenation, repetition, comparison, formatting, and more."
   ]
  },
  {
   "cell_type": "code",
   "execution_count": 43,
   "metadata": {},
   "outputs": [
    {
     "name": "stdout",
     "output_type": "stream",
     "text": [
      "string_operations =  abcdefghijklmnopqrstuvwxyz length =  26 type =  <class 'str'>\n",
      "string_operations[2:5] =  cde\n",
      "string_operations[2:] =  cdefghijklmnopqrstuvwxyz\n",
      "string_operations[:5] =  abcde\n",
      "string_operations[:] =  abcdefghijklmnopqrstuvwxyz\n",
      "string_operations[-5:] =  vwxyz\n",
      "\n",
      "string_operations.split('c') =  ['ab', 'defghijklmnopqrstuvwxyz']\n",
      "count how many 'c' are in the string →  1\n",
      "find index of 'c' →  2\n",
      "replace the first 'a' with 'x' →  xbcdefghijklmnopqrstuvwxyz\n",
      "\n",
      "%02d:%02d:%02d →  10:09:08\n",
      "'{}:{}:{}'.format(hours,minutes,seconds) →  10:9:8"
     ]
    }
   ],
   "source": [
    "# String slicing\n",
    "string_operations = \"abcdefghijklmnopqrstuvwxyz\"\n",
    "print(\"string_operations = \", string_operations, \"length = \", len(string_operations), \"type = \", type(string_operations))\n",
    "print(\"string_operations[2:5] = \", string_operations[2:5])\n",
    "print(\"string_operations[2:] = \", string_operations[2:])\n",
    "print(\"string_operations[:5] = \", string_operations[:5])\n",
    "print(\"string_operations[:] = \", string_operations[:])\n",
    "print(\"string_operations[-5:] = \", string_operations[-5:])\n",
    "print()\n",
    "# String concatenation already explained\n",
    "# String split\n",
    "print(\"string_operations.split('c') = \", string_operations.split('c'))\n",
    "# String count find and replace\n",
    "print(\"count how many 'c' are in the string → \", string_operations.count('c'))\n",
    "print(\"find index of 'c' → \", string_operations.find('c'))\n",
    "print(\"replace the first 'a' with 'x' → \", string_operations.replace('a', 'x'))\n",
    "print()\n",
    "# String formatting\n",
    "hours = 10\n",
    "minutes = 9\n",
    "seconds = 8\n",
    "print(\"%02d:%02d:%02d → \", \"%02d:%02d:%02d\" % (hours, minutes, seconds))\n",
    "# using the format method\n",
    "print(\"'{}:{}:{}'.format(hours,minutes,seconds) → \", \"{}:{}:{}\".format(hours, minutes, seconds), end=\"\")\n",
    "\n",
    "\n"
   ]
  }
 ],
 "metadata": {
  "interpreter": {
   "hash": "3a7680bd3b824c78060cc75ec896c5317da4b750a1ac8daf0f170779dfb86cf6"
  },
  "kernelspec": {
   "display_name": "Python 3.8.10 64-bit ('.venv': venv)",
   "name": "python3"
  },
  "language_info": {
   "codemirror_mode": {
    "name": "ipython",
    "version": 3
   },
   "file_extension": ".py",
   "mimetype": "text/x-python",
   "name": "python",
   "nbconvert_exporter": "python",
   "pygments_lexer": "ipython3",
   "version": "3.8.10"
  },
  "orig_nbformat": 4
 },
 "nbformat": 4,
 "nbformat_minor": 2
}
