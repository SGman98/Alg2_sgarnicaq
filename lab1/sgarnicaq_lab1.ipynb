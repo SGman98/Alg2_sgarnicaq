{
 "cells": [
  {
   "cell_type": "markdown",
   "metadata": {},
   "source": [
    "# 01 Data Types and Data Structures"
   ]
  },
  {
   "cell_type": "markdown",
   "metadata": {},
   "source": [
    "## Basic variable types\n",
    "\n",
    "String concatenation, is done with the + operator.\n",
    "\n",
    "Datatype of a variable can be determined by using the type() function.\n",
    "\n",
    "Datatypes are:\n",
    "- `int`, `float`, `bool`, `str`, `list`, `tuple`, `dict`, `set`, `None`\n",
    "\n",
    "Datatypes can be converted to each other using the following functions:\n",
    "\n",
    "- `int(x)`, `float(x)`, `bool(x)`, `str(x)`, `list(x)`, `tuple(x)`, `dict(x)`, `set(x)`"
   ]
  },
  {
   "cell_type": "code",
   "execution_count": 82,
   "metadata": {},
   "outputs": [
    {
     "name": "stdout",
     "output_type": "stream",
     "text": [
      "Welcome to the Algorithms class 101\n",
      "<class 'str'> Welcome to the Algorithms class 101\n",
      "<class 'str'> 101\n",
      "<class 'int'> 101\n",
      "<class 'float'> 101.0\n",
      "<class 'bool'> False\n"
     ]
    }
   ],
   "source": [
    "# String creation with single and double quotes\n",
    "string_welcome = \"Welcome to the\"\n",
    "string_name = 'Algorithms class'\n",
    "string_num = \"101\"\n",
    "# String concatenation\n",
    "string_welcome_name = string_welcome + \" \" + string_name + \" \" + string_num\n",
    "print(string_welcome_name)\n",
    "# Data type visualisation\n",
    "print(type(string_welcome_name), string_welcome_name)\n",
    "print(type(string_num), string_num)\n",
    "# Data type conversion\n",
    "my_num_int = int(string_num)\n",
    "print(type(my_num_int), str(my_num_int))\n",
    "\n",
    "my_num_float = float(string_num)\n",
    "print(type(my_num_float), str(my_num_float))\n",
    "\n",
    "my_bool = False\n",
    "print(type(my_bool), str(my_bool))"
   ]
  },
  {
   "cell_type": "markdown",
   "metadata": {},
   "source": [
    "## Basic Math Operations\n",
    "Python has a built-in math module with many functions.\n",
    "The basic math operations are:\n",
    "- `+`, `-`, `*`, `/`, `//`, `%`, `**`\n",
    "- addition, subtraction, multiplication, division, floor division, modulo, power"
   ]
  },
  {
   "cell_type": "code",
   "execution_count": 83,
   "metadata": {},
   "outputs": [
    {
     "name": "stdout",
     "output_type": "stream",
     "text": [
      "7 + 3 =  10\n",
      "7 - 3 =  4\n",
      "7 * 3 =  21\n",
      "7 / 3 =  2.3333333333333335\n",
      "7 // 3 =  2\n",
      "7 % 3 =  1\n",
      "7 ** 3 =  343\n",
      "a + b =  11\n",
      "a + b * b =  17\n"
     ]
    }
   ],
   "source": [
    "# Some math examples\n",
    "print(\"7 + 3 = \", 7 + 3)\n",
    "print(\"7 - 3 = \", 7 - 3)\n",
    "print(\"7 * 3 = \", 7 * 3)\n",
    "print(\"7 / 3 = \", 7 / 3)\n",
    "print(\"7 // 3 = \", 7 // 3)\n",
    "print(\"7 % 3 = \", 7 % 3)\n",
    "print(\"7 ** 3 = \", 7 ** 3)\n",
    "# It is possible to use the variables\n",
    "a = 8\n",
    "b = 3\n",
    "print(\"a + b = \", a + b)\n",
    "# And use multiple operations\n",
    "print(\"a + b * b = \", a + b * b)"
   ]
  },
  {
   "cell_type": "markdown",
   "metadata": {},
   "source": [
    "## Data Collections\n",
    "Python has different data structures:\n",
    "- `list`, `tuple`, `dict`, `set`\n",
    "Unlike other languages the datatype of the variables inside this data structures is not specified, and could be different for each variable.\n",
    "\n",
    "### **List:** ordered collection of items. Use with square brackets. a = [1, 2, 3]"
   ]
  },
  {
   "cell_type": "code",
   "execution_count": 84,
   "metadata": {},
   "outputs": [
    {
     "name": "stdout",
     "output_type": "stream",
     "text": [
      "my_list =  [1, 2, 3, 4, 5] length =  5 type =  <class 'list'>\n",
      "my_list[2] =  3\n",
      "my_list_2 =  [1, 2, 3, 4, 5, 'a', 'b', 'c'] length =  8 type =  <class 'list'>\n",
      "my_list_2[2:5] =  [3, 4, 5]\n",
      "my_list + my_list_2 =  [1, 2, 3, 4, 5, 1, 2, 3, 4, 5, 'a', 'b', 'c'] length =  13 type =  <class 'list'>\n"
     ]
    }
   ],
   "source": [
    "# List creation\n",
    "my_list = [1, 2, 3, 4, 5]\n",
    "print(\"my_list = \", my_list, \"length = \", len(my_list), \"type = \", type(my_list))\n",
    "# List indexing\n",
    "print(\"my_list[2] = \", my_list[2])\n",
    "# List multiple data types\n",
    "my_list_2 = [1, 2, 3, 4, 5, \"a\", \"b\", \"c\"]\n",
    "print(\"my_list_2 = \", my_list_2, \"length = \", len(my_list_2), \"type = \", type(my_list_2))\n",
    "# List slicing\n",
    "print(\"my_list_2[2:5] = \", my_list_2[2:5])\n",
    "# List concatenation\n",
    "my_list_3 = my_list + my_list_2\n",
    "print(\"my_list + my_list_2 = \", my_list_3, \"length = \", len(my_list_3), \"type = \", type(my_list_3))\n",
    "# List modification\n",
    "# append, insert, remove, pop, clear, list[index] = value"
   ]
  },
  {
   "cell_type": "markdown",
   "metadata": {},
   "source": [
    "### **Tuple:** ordered collection of items. Use with parentheses. a = (1, 2, 3)"
   ]
  },
  {
   "cell_type": "code",
   "execution_count": 85,
   "metadata": {},
   "outputs": [
    {
     "name": "stdout",
     "output_type": "stream",
     "text": [
      "my_tuple =  (1, 2, 3, 4, 5) length =  5 type =  <class 'tuple'>\n",
      "my_tuple[2] =  3\n",
      "my_tuple_2 =  (1, 2, 3, 4, 5, 'a', 'b', 'c') length =  8 type =  <class 'tuple'>\n",
      "my_tuple_2[2:5] =  (3, 4, 5)\n",
      "my_tuple + my_tuple_2 =  (1, 2, 3, 4, 5, 1, 2, 3, 4, 5, 'a', 'b', 'c') length =  13 type =  <class 'tuple'>\n",
      "my_tuple_4 =  (1, 2, 'a', 4, 5) length =  5 type =  <class 'tuple'>\n"
     ]
    }
   ],
   "source": [
    "# Tuples creation\n",
    "my_tuple = (1, 2, 3, 4, 5)\n",
    "print(\"my_tuple = \", my_tuple, \"length = \", len(my_tuple), \"type = \", type(my_tuple))\n",
    "# Tuples indexing\n",
    "print(\"my_tuple[2] = \", my_tuple[2])\n",
    "# Tuples multiple data types\n",
    "my_tuple_2 = (1, 2, 3, 4, 5, \"a\", \"b\", \"c\")\n",
    "print(\"my_tuple_2 = \", my_tuple_2, \"length = \", len(my_tuple_2), \"type = \", type(my_tuple_2))\n",
    "# Tuples slicing\n",
    "print(\"my_tuple_2[2:5] = \", my_tuple_2[2:5])\n",
    "# Tuples concatenation\n",
    "my_tuple_3 = my_tuple + my_tuple_2\n",
    "print(\"my_tuple + my_tuple_2 = \", my_tuple_3, \"length = \", len(my_tuple_3), \"type = \", type(my_tuple_3))\n",
    "# Tuples are immutable\n",
    "# one workaround is to convert the tuple to list modify it and convert back to tuple\n",
    "my_tuple_4 = list(my_tuple)\n",
    "my_tuple_4[2] = \"a\"\n",
    "my_tuple_4 = tuple(my_tuple_4)\n",
    "print(\"my_tuple_4 = \", my_tuple_4, \"length = \", len(my_tuple_4), \"type = \", type(my_tuple_4))"
   ]
  },
  {
   "cell_type": "markdown",
   "metadata": {},
   "source": [
    "### **Dict:** unordered collection of key-value pairs. Use with curly brackets. a = {'a': 1, 'b': 2}"
   ]
  },
  {
   "cell_type": "code",
   "execution_count": 86,
   "metadata": {},
   "outputs": [
    {
     "name": "stdout",
     "output_type": "stream",
     "text": [
      "my_dict =  {'a': 1, 'b': 2, 'c': 3} length =  3 type =  <class 'dict'>\n",
      "my_dict['a'] =  1\n",
      "my_dict_2 =  {'a': 1, 'b': 2, 'c': 3, 'd': 'a', 'e': 'b', 'f': 'c'} length =  6 type =  <class 'dict'>\n"
     ]
    }
   ],
   "source": [
    "# Dictionaries creation\n",
    "my_dict = {'a': 1, 'b': 2, 'c': 3}\n",
    "print(\"my_dict = \", my_dict, \"length = \", len(my_dict), \"type = \", type(my_dict))\n",
    "# Dictionaries indexing\n",
    "print(\"my_dict['a'] = \", my_dict['a'])\n",
    "# Dictionaries multiple data types\n",
    "my_dict_2 = {'a': 1, 'b': 2, 'c': 3, 'd': \"a\", 'e': \"b\", 'f': \"c\"}\n",
    "print(\"my_dict_2 = \", my_dict_2, \"length = \", len(my_dict_2), \"type = \", type(my_dict_2))\n",
    "# Dictionaries slicing is not possible\n",
    "# Dictionaries concatenation is not possible\n",
    "# Dictionaries modification\n",
    "# update, pop, clear, dict[key] = value"
   ]
  },
  {
   "cell_type": "markdown",
   "metadata": {},
   "source": [
    "### **Set:** unordered collection of unique items. Use with curly brackets. a = {1, 2, 3}"
   ]
  },
  {
   "cell_type": "code",
   "execution_count": 87,
   "metadata": {},
   "outputs": [
    {
     "name": "stdout",
     "output_type": "stream",
     "text": [
      "my_set =  {1, 2, 3, 4, 5} length =  5 type =  <class 'set'>\n",
      "my_set_2 =  {1, 2, 3, 4, 5, 'b', 'c', 'a'} length =  8 type =  <class 'set'>\n"
     ]
    }
   ],
   "source": [
    "# Sets creation\n",
    "my_set = {1, 2, 3, 4, 5}\n",
    "print(\"my_set = \", my_set, \"length = \", len(my_set), \"type = \", type(my_set))\n",
    "# Sets indexing is not possible\n",
    "# Sets multiple data types\n",
    "my_set_2 = {1, 2, 3, 4, 5, \"a\", \"b\", \"c\"}\n",
    "print(\"my_set_2 = \", my_set_2, \"length = \", len(my_set_2), \"type = \", type(my_set_2))\n",
    "# Sets slicing is not possible\n",
    "# Sets concatenation is not possible\n",
    "# Sets modification\n",
    "# add, remove, clear, set[index] = value"
   ]
  },
  {
   "cell_type": "markdown",
   "metadata": {},
   "source": [
    "## Common String Operations\n",
    "Some string operations are:\n",
    "slicing, concatenation, repetition, comparison, formatting, and more."
   ]
  },
  {
   "cell_type": "code",
   "execution_count": 88,
   "metadata": {},
   "outputs": [
    {
     "name": "stdout",
     "output_type": "stream",
     "text": [
      "string_operations =  abcdefghijklmnopqrstuvwxyz length =  26 type =  <class 'str'>\n",
      "string_operations[2:5] =  cde\n",
      "string_operations[2:] =  cdefghijklmnopqrstuvwxyz\n",
      "string_operations[:5] =  abcde\n",
      "string_operations[:] =  abcdefghijklmnopqrstuvwxyz\n",
      "string_operations[-5:] =  vwxyz\n",
      "\n",
      "string_operations.split('c') =  ['ab', 'defghijklmnopqrstuvwxyz']\n",
      "count how many 'c' are in the string →  1\n",
      "find index of 'c' →  2\n",
      "replace the first 'a' with 'x' →  xbcdefghijklmnopqrstuvwxyz\n",
      "\n",
      "%02d:%02d:%02d →  10:09:08\n",
      "'{}:{}:{}'.format(hours,minutes,seconds) →  10:9:8"
     ]
    }
   ],
   "source": [
    "# String slicing\n",
    "string_operations = \"abcdefghijklmnopqrstuvwxyz\"\n",
    "print(\"string_operations = \", string_operations, \"length = \", len(string_operations), \"type = \", type(string_operations))\n",
    "print(\"string_operations[2:5] = \", string_operations[2:5])\n",
    "print(\"string_operations[2:] = \", string_operations[2:])\n",
    "print(\"string_operations[:5] = \", string_operations[:5])\n",
    "print(\"string_operations[:] = \", string_operations[:])\n",
    "print(\"string_operations[-5:] = \", string_operations[-5:])\n",
    "print()\n",
    "# String concatenation already explained\n",
    "# String split\n",
    "print(\"string_operations.split('c') = \", string_operations.split('c'))\n",
    "# String count find and replace\n",
    "print(\"count how many 'c' are in the string → \", string_operations.count('c'))\n",
    "print(\"find index of 'c' → \", string_operations.find('c'))\n",
    "print(\"replace the first 'a' with 'x' → \", string_operations.replace('a', 'x'))\n",
    "print()\n",
    "# String formatting\n",
    "hours = 10\n",
    "minutes = 9\n",
    "seconds = 8\n",
    "print(\"%02d:%02d:%02d → \", \"%02d:%02d:%02d\" % (hours, minutes, seconds))\n",
    "# using the format method\n",
    "print(\"'{}:{}:{}'.format(hours,minutes,seconds) → \", \"{}:{}:{}\".format(hours, minutes, seconds), end=\"\")"
   ]
  },
  {
   "cell_type": "markdown",
   "metadata": {},
   "source": [
    "# 02 Logical Operators and Loops\n",
    "## Logical Operators\n",
    "Logical operators are &&, ||, and !"
   ]
  },
  {
   "cell_type": "code",
   "execution_count": 89,
   "metadata": {},
   "outputs": [
    {
     "name": "stdout",
     "output_type": "stream",
     "text": [
      "a = 1, b = 2\n",
      "a == b →  False\n",
      "a != b →  True\n",
      "a < b →  True\n",
      "a > b →  False\n",
      "a <= b →  True\n",
      "a >= b →  False\n",
      "\n",
      "a == b and a < b False\n",
      "a == b or a < b True\n",
      "not a == b True\n",
      "\n"
     ]
    }
   ],
   "source": [
    "a = 1\n",
    "b = 2\n",
    "print(\"a = {}, b = {}\".format(a, b))\n",
    "print(\"a == b → \", a == b) # False\n",
    "print(\"a != b → \", a != b) # True\n",
    "print(\"a < b → \", a < b) # True\n",
    "print(\"a > b → \", a > b) # False\n",
    "print(\"a <= b → \", a <= b) # True\n",
    "print(\"a >= b → \", a >= b) # False\n",
    "print()\n",
    "# Combining operation results\n",
    "print(\"a == b and a < b\", a == b and a < b) # False\n",
    "print(\"a == b or a < b\", a == b or a < b) # True\n",
    "print(\"not a == b\", not a == b) # True\n",
    "print()"
   ]
  },
  {
   "cell_type": "markdown",
   "metadata": {},
   "source": [
    "## If Statements"
   ]
  },
  {
   "cell_type": "code",
   "execution_count": 90,
   "metadata": {},
   "outputs": [
    {
     "name": "stdout",
     "output_type": "stream",
     "text": [
      "a < b\n"
     ]
    }
   ],
   "source": [
    "if a == b:\n",
    "    print(\"a == b\")\n",
    "elif a < b:\n",
    "    print(\"a < b\")\n",
    "else:\n",
    "    print(\"a != b\")\n",
    "# a == b → False and a < b → True, a != b → True, so the value printed is a < b as it runs in order of the if statements"
   ]
  },
  {
   "cell_type": "markdown",
   "metadata": {},
   "source": [
    "## Loop Structure\n",
    "### While Loop"
   ]
  },
  {
   "cell_type": "code",
   "execution_count": 91,
   "metadata": {},
   "outputs": [
    {
     "name": "stdout",
     "output_type": "stream",
     "text": [
      "5 4 3 2 1 "
     ]
    }
   ],
   "source": [
    "i = 5\n",
    "while i > 0:\n",
    "    print(i, end=\" \")\n",
    "    i -= 1\n",
    "# it will print 5, 4, 3, 2, 1"
   ]
  },
  {
   "cell_type": "markdown",
   "metadata": {},
   "source": [
    "### For Loop"
   ]
  },
  {
   "cell_type": "code",
   "execution_count": 92,
   "metadata": {},
   "outputs": [
    {
     "name": "stdout",
     "output_type": "stream",
     "text": [
      "a b c d e "
     ]
    }
   ],
   "source": [
    "# for loop with range and list\n",
    "list_1 = ['a', 'b', 'c', 'd', 'e']\n",
    "for i in range(len(list_1)):\n",
    "    print(list_1[i], end=\" \")\n",
    "# it will print a, b, c, d, e"
   ]
  },
  {
   "cell_type": "markdown",
   "metadata": {},
   "source": [
    "### Break and Continue\n",
    "The break statement ends the loop.\n",
    "\n",
    "The continue statement skips the rest of the current iteration."
   ]
  },
  {
   "cell_type": "code",
   "execution_count": 93,
   "metadata": {},
   "outputs": [
    {
     "name": "stdout",
     "output_type": "stream",
     "text": [
      "a b \n",
      "a b d e \n",
      "hello world python awesome and "
     ]
    }
   ],
   "source": [
    "# The loop can be breaked out with the break statement\n",
    "list_1 = ['a', 'b', 'c', 'd', 'e']\n",
    "for i in range(len(list_1)):\n",
    "    if i == 2:\n",
    "        break\n",
    "    print(list_1[i], end=\" \")\n",
    "# it will print a, b\n",
    "print()\n",
    "# The loop can be continued with the continue statement\n",
    "list_1 = ['a', 'b', 'c', 'd', 'e']\n",
    "for i in range(len(list_1)):\n",
    "    if i == 2:\n",
    "        continue\n",
    "    print(list_1[i], end=\" \")\n",
    "# it will print a, b, d, e\n",
    "print()\n",
    "\n",
    "# an example of a for loop using break and continue\n",
    "list_random_words = ['hello', 'world', 'python', 'is', 'awesome', 'and', 'I', 'love', 'it']\n",
    "for i in range(len(list_random_words)):\n",
    "    if list_random_words[i] == 'I': # this part breaks the loop at the first 'I'\n",
    "        break\n",
    "    if len(list_random_words[i]) < 3: # this part skips the words with less than 3 characters → 'is' 'I' 'it'\n",
    "        continue\n",
    "    print(list_random_words[i], end=\" \")\n",
    "# it will print → hello world python awesome and"
   ]
  },
  {
   "cell_type": "markdown",
   "metadata": {},
   "source": [
    "## List Comprehension"
   ]
  },
  {
   "cell_type": "code",
   "execution_count": 94,
   "metadata": {},
   "outputs": [
    {
     "name": "stdout",
     "output_type": "stream",
     "text": [
      "list =  [2, 4, 6, 8, 10]\n",
      "list =  ['hello', 'world', 'python', 'awesome', 'love']\n"
     ]
    }
   ],
   "source": [
    "# an example of a list where all the elements are store in other but times 2\n",
    "list_1 = [1, 2, 3, 4, 5]\n",
    "list_2 = [i * 2 for i in list_1]\n",
    "print(\"list = \", list_2)\n",
    "# an example were only the words longer than 3 characters are stored in a new list\n",
    "list_1 = ['hello', 'world', 'python', 'is', 'awesome', 'and', 'I', 'love', 'it']\n",
    "list_2 = [i for i in list_1 if len(i) > 3]\n",
    "print(\"list = \", list_2)"
   ]
  },
  {
   "cell_type": "markdown",
   "metadata": {},
   "source": [
    "# 03 Functions and Objective-Oriented Programming\n",
    "## Functions"
   ]
  },
  {
   "cell_type": "code",
   "execution_count": 95,
   "metadata": {},
   "outputs": [
    {
     "name": "stdout",
     "output_type": "stream",
     "text": [
      "hello world\n",
      "new_function(5, 3) =  8\n",
      "new_function(5, 8) =  -3\n"
     ]
    }
   ],
   "source": [
    "def hello_world():\n",
    "    print(\"hello world\")\n",
    "hello_world()\n",
    "\n",
    "# function with arguments\n",
    "def new_function(x, y):\n",
    "    if x > y:\n",
    "        return x + y\n",
    "    else:\n",
    "        return x - y\n",
    "print(\"new_function(5, 3) = \", new_function(5, 3))\n",
    "print(\"new_function(5, 8) = \", new_function(5, 8 ))\n"
   ]
  },
  {
   "cell_type": "markdown",
   "metadata": {},
   "source": [
    "## Built-in Functions\n",
    "some built-in functions are:\n",
    "- range() len() min() max() sum() print() input() map() ..."
   ]
  },
  {
   "cell_type": "code",
   "execution_count": 96,
   "metadata": {},
   "outputs": [
    {
     "name": "stdout",
     "output_type": "stream",
     "text": [
      "range_1 =  range(0, 10)\n",
      "len(range_1) =  10\n",
      "min(range_1) =  0\n",
      "max(range_1) =  9\n",
      "sum(range_1) =  45\n",
      "range(0, 10)\n",
      "print(range_1) =  None\n",
      "\n",
      "list_1 →  [2, 9, 6, 45, 35, 74, 1, 8, 3, 4]\n",
      "sorted(list_1) →  [1, 2, 3, 4, 6, 8, 9, 35, 45, 74]\n",
      "map all elements * 2 and sort →  [4, 18, 12, 90, 70, 148, 2, 16, 6, 8]\n",
      "filter only the element where x % 2 == 0 →  [2, 6, 74, 8, 4]\n",
      "list_tuples →  [(12, 16, 3), (2, 5, 9), (1, 4, 8), (3, 6, 7)]\n",
      "sorted(list_tuples, key=lambda x: x[2]) →  [(12, 16, 3), (3, 6, 7), (1, 4, 8), (2, 5, 9)]\n"
     ]
    }
   ],
   "source": [
    "# Some examples of built-in functions\n",
    "# range() len() min() max() sum() print() input() map() ...\n",
    "range_1 = range(10)\n",
    "print(\"range_1 = \", range_1)\n",
    "print(\"len(range_1) = \", len(range_1))\n",
    "print(\"min(range_1) = \", min(range_1))\n",
    "print(\"max(range_1) = \", max(range_1))\n",
    "print(\"sum(range_1) = \", sum(range_1))\n",
    "print(\"print(range_1) = \", print(range_1)) # the print function returns None\n",
    "print() # the input function returns the input of the user as a string\n",
    "\n",
    "# example of map, sorted and filter\n",
    "list_1 = [2,9,6,45,35,74,1,8,3,4]\n",
    "print(\"list_1 → \", list_1)\n",
    "print(\"sorted(list_1) → \", sorted(list_1))\n",
    "print(\"map all elements * 2 and sort → \", list(map(lambda x: x * 2, list_1)))\n",
    "print(\"filter only the element where x % 2 == 0 → \", list(filter(lambda x: x % 2 == 0, list_1)))\n",
    "\n",
    "# example of sort list of tuples where the last element is the key\n",
    "list_tuples = [(12,16,3),(2,5,9),(1,4,8),(3,6,7)]\n",
    "print(\"list_tuples → \", list_tuples)\n",
    "print(\"sorted(list_tuples, key=lambda x: x[2]) → \", sorted(list_tuples, key=lambda x: x[2]))"
   ]
  },
  {
   "cell_type": "markdown",
   "metadata": {},
   "source": [
    "## Object-Oriented Programming\n",
    "### Class"
   ]
  },
  {
   "cell_type": "code",
   "execution_count": 97,
   "metadata": {},
   "outputs": [
    {
     "name": "stdout",
     "output_type": "stream",
     "text": [
      "office_1 →  Office name: Office 1, Location: New York\n",
      "office_2 →  Office name: Office 2, Location: Los Angeles\n",
      "\n",
      "office_1 →  Office name: Office 1, Location: Chicago\n",
      "office_2 →  Office name: Office 2, Location: Los Angeles\n",
      "\n",
      "office_1 →  Office name: Office 1*, Location: Chicago\n",
      "office_2 →  Office name: Office 2, Location: Los Angeles\n"
     ]
    },
    {
     "data": {
      "text/plain": [
       "['__class__',\n",
       " '__delattr__',\n",
       " '__dict__',\n",
       " '__dir__',\n",
       " '__doc__',\n",
       " '__eq__',\n",
       " '__format__',\n",
       " '__ge__',\n",
       " '__getattribute__',\n",
       " '__gt__',\n",
       " '__hash__',\n",
       " '__init__',\n",
       " '__init_subclass__',\n",
       " '__le__',\n",
       " '__lt__',\n",
       " '__module__',\n",
       " '__ne__',\n",
       " '__new__',\n",
       " '__reduce__',\n",
       " '__reduce_ex__',\n",
       " '__repr__',\n",
       " '__setattr__',\n",
       " '__sizeof__',\n",
       " '__str__',\n",
       " '__subclasshook__',\n",
       " '__weakref__',\n",
       " 'change_location',\n",
       " 'location',\n",
       " 'name',\n",
       " 'to_string']"
      ]
     },
     "execution_count": 97,
     "metadata": {},
     "output_type": "execute_result"
    }
   ],
   "source": [
    "# example of class\n",
    "class Office:\n",
    "    def __init__(self, name, location):\n",
    "        self.name = name\n",
    "        self.location = location\n",
    "    def to_string(self):\n",
    "        return \"Office name: \" + self.name + \", Location: \" + self.location\n",
    "    def change_location(self, new_location):\n",
    "        self.location = new_location\n",
    "office_1 = Office(\"Office 1\", \"New York\")\n",
    "office_2 = Office(\"Office 2\", \"Los Angeles\")\n",
    "print(\"office_1 → \", office_1.to_string())\n",
    "print(\"office_2 → \", office_2.to_string())\n",
    "print()\n",
    "office_1.change_location(\"Chicago\")\n",
    "print(\"office_1 → \", office_1.to_string())\n",
    "print(\"office_2 → \", office_2.to_string())\n",
    "print()\n",
    "office_1.name = \"Office 1*\"\n",
    "print(\"office_1 → \", office_1.to_string())\n",
    "print(\"office_2 → \", office_2.to_string())\n",
    "dir(office_1) # shows the attributes of the class Office\n"
   ]
  },
  {
   "cell_type": "markdown",
   "metadata": {},
   "source": [
    "### Inheritance"
   ]
  },
  {
   "cell_type": "code",
   "execution_count": 98,
   "metadata": {},
   "outputs": [
    {
     "name": "stdout",
     "output_type": "stream",
     "text": [
      "mini_office_1 →  Office name: Office 1, Location: New York, Size: small\n",
      "mini_office_2 →  Office name: Office 2, Location: Los Angeles, Size: medium\n",
      "\n",
      "mini_office_1 →  Office name: Office 1, Location: Chicago, Size: small\n",
      "mini_office_2 →  Office name: Office 2, Location: Los Angeles, Size: medium\n",
      "\n"
     ]
    }
   ],
   "source": [
    "# Inheritance\n",
    "class mini_office(Office): # the office class is inherited\n",
    "    def __init__(self, name, location, size):\n",
    "        super().__init__(name, location)\n",
    "        self.size = size\n",
    "    def to_string(self): # this method overrides the to_string method of the parent class\n",
    "        return \"Office name: \" + self.name + \", Location: \" + self.location + \", Size: \" + self.size\n",
    "mini_office_1 = mini_office(\"Office 1\", \"New York\", \"small\")\n",
    "mini_office_2 = mini_office(\"Office 2\", \"Los Angeles\", \"medium\")\n",
    "print(\"mini_office_1 → \", mini_office_1.to_string())\n",
    "print(\"mini_office_2 → \", mini_office_2.to_string())\n",
    "print()\n",
    "mini_office_1.change_location(\"Chicago\") # the change_location method is inherited from the office class\n",
    "print(\"mini_office_1 → \", mini_office_1.to_string())\n",
    "print(\"mini_office_2 → \", mini_office_2.to_string())\n",
    "print()"
   ]
  },
  {
   "cell_type": "markdown",
   "metadata": {},
   "source": [
    "# 04 NumPy and Basic Pandas\n",
    "## NumPy"
   ]
  },
  {
   "cell_type": "code",
   "execution_count": 100,
   "metadata": {},
   "outputs": [
    {
     "name": "stdout",
     "output_type": "stream",
     "text": [
      "array_1 = \n",
      " [[ 1  2  3]\n",
      " [ 4  5  6]\n",
      " [ 7  8  9]\n",
      " [10 11 12]]\n",
      "array_1.shape =  (4, 3)\n",
      "array_1.ndim =  2\n",
      "array_1.size =  12\n",
      "array_1.T = \n",
      " [[ 1  4  7 10]\n",
      " [ 2  5  8 11]\n",
      " [ 3  6  9 12]]\n",
      "np.sum(array_1) =  78\n",
      "np.sum(array_1, axis=0) = \n",
      " [22 26 30]\n",
      "np.log(array_1) = \n",
      " [[0.         0.69314718 1.09861229]\n",
      " [1.38629436 1.60943791 1.79175947]\n",
      " [1.94591015 2.07944154 2.19722458]\n",
      " [2.30258509 2.39789527 2.48490665]]\n",
      "np.exp(array_1) = \n",
      " [[2.71828183e+00 7.38905610e+00 2.00855369e+01]\n",
      " [5.45981500e+01 1.48413159e+02 4.03428793e+02]\n",
      " [1.09663316e+03 2.98095799e+03 8.10308393e+03]\n",
      " [2.20264658e+04 5.98741417e+04 1.62754791e+05]]\n"
     ]
    }
   ],
   "source": [
    "import numpy as np\n",
    "# example of numpy arrays and functions\n",
    "array_1 = np.array([[1,2,3],[4,5,6],[7,8,9],[10,11,12]])\n",
    "print(\"array_1 = \\n\", array_1)\n",
    "print(\"array_1.shape = \", array_1.shape) # the shape of the array number of rows, columns\n",
    "print(\"array_1.ndim = \", array_1.ndim) # the number of dimensions of the array\n",
    "print(\"array_1.size = \", array_1.size) # the number of elements in the array\n",
    "print(\"array_1.T = \\n\", array_1.T) # transpose the array\n",
    "# Array Functions\n",
    "print(\"np.sum(array_1) = \", np.sum(array_1))\n",
    "print(\"np.sum(array_1, axis=0) = \\n\", np.sum(array_1, axis=0)) # sum the rows\n",
    "print(\"np.log(array_1) = \\n\", np.log(array_1)) # log of each element\n",
    "print(\"np.exp(array_1) = \\n\", np.exp(array_1)) # exp of each element"
   ]
  },
  {
   "cell_type": "markdown",
   "metadata": {},
   "source": [
    "## Pandas"
   ]
  },
  {
   "cell_type": "code",
   "execution_count": 114,
   "metadata": {},
   "outputs": [
    {
     "name": "stdout",
     "output_type": "stream",
     "text": [
      "s = \n",
      " 0        Bob\n",
      "1    Jessica\n",
      "2       Mary\n",
      "3       John\n",
      "4        Mel\n",
      "dtype: object\n",
      "s = \n",
      " 12436        Bob\n",
      "64813    Jessica\n",
      "15486       Mary\n",
      "36874       John\n",
      "93654        Mel\n",
      "dtype: object\n",
      "s.index =  Int64Index([12436, 64813, 15486, 36874, 93654], dtype='int64')\n",
      "s.values =  ['Bob' 'Jessica' 'Mary' 'John' 'Mel']\n",
      "s.name =  None\n",
      "s.name =  C.C Name\n",
      "\n",
      "s.describe() = \n",
      " count       5\n",
      "unique      5\n",
      "top       Bob\n",
      "freq        1\n",
      "Name: C.C Name, dtype: object\n"
     ]
    }
   ],
   "source": [
    "import pandas as pd\n",
    "# example of pandas series\n",
    "names = ['Bob', 'Jessica', 'Mary', 'John', 'Mel']\n",
    "s = pd.Series(names)\n",
    "print(\"s = \\n\", s)\n",
    "# index change\n",
    "identity_num = [12436,64813,15486,36874,93654]\n",
    "s = pd.Series(names, index=identity_num)\n",
    "print(\"s = \\n\", s)\n",
    "\n",
    "# series functions\n",
    "print(\"s.index = \", s.index) # the index of the series\n",
    "print(\"s.values = \", s.values) # the values of the series\n",
    "print(\"s.name = \", s.name) # the name of the series\n",
    "s.name = \"C.C Name\"\n",
    "print(\"s.name = \", s.name)\n",
    "print()\n",
    "print(\"s.describe() = \\n\", s.describe()) # describe the series"
   ]
  },
  {
   "cell_type": "code",
   "execution_count": 116,
   "metadata": {},
   "outputs": [
    {
     "name": "stdout",
     "output_type": "stream",
     "text": [
      "s = \n",
      " 0    1246\n",
      "1    4813\n",
      "2    1548\n",
      "3    3687\n",
      "4    9365\n",
      "Name: Nums, dtype: int64\n",
      "s.max() =  9365\n",
      "s.min() =  1246\n",
      "s.describe() = \n",
      " count       5.000000\n",
      "mean     4131.800000\n",
      "std      3280.705976\n",
      "min      1246.000000\n",
      "25%      1548.000000\n",
      "50%      3687.000000\n",
      "75%      4813.000000\n",
      "max      9365.000000\n",
      "Name: Nums, dtype: float64\n"
     ]
    }
   ],
   "source": [
    "# pandas series numerical functions\n",
    "s = pd.Series([1246,4813,1548,3687,9365], name='Nums')\n",
    "print(\"s = \\n\", s)\n",
    "print(\"s.max() = \", s.max())\n",
    "print(\"s.min() = \", s.min())\n",
    "print(\"s.describe() = \\n\", s.describe())"
   ]
  },
  {
   "cell_type": "markdown",
   "metadata": {},
   "source": [
    "# 05 Pandas-Resampling and DataFrame\n",
    "## Fetching Data"
   ]
  },
  {
   "cell_type": "code",
   "execution_count": 117,
   "metadata": {},
   "outputs": [
    {
     "name": "stdout",
     "output_type": "stream",
     "text": [
      "aapl.info = \n",
      " {'zip': '95014', 'sector': 'Technology', 'fullTimeEmployees': 100000, 'longBusinessSummary': 'Apple Inc. designs, manufactures, and markets smartphones, personal computers, tablets, wearables, and accessories worldwide. It also sells various related services. The company offers iPhone, a line of smartphones; Mac, a line of personal computers; iPad, a line of multi-purpose tablets; and wearables, home, and accessories comprising AirPods, Apple TV, Apple Watch, Beats products, HomePod, iPod touch, and other Apple-branded and third-party accessories. It also provides AppleCare support services; cloud services store services; and operates various platforms, including the App Store, that allow customers to discover and download applications and digital content, such as books, music, video, games, and podcasts. In addition, the company offers various services, such as Apple Arcade, a game subscription service; Apple Music, which offers users a curated listening experience with on-demand radio stations; Apple News+, a subscription news and magazine service; Apple TV+, which offers exclusive original content; Apple Card, a co-branded credit card; and Apple Pay, a cashless payment service, as well as licenses its intellectual property. The company serves consumers, and small and mid-sized businesses; and the education, enterprise, and government markets. It sells and delivers third-party applications for its products through the App Store. The company also sells its products through its retail and online stores, and direct sales force; and third-party cellular network carriers, wholesalers, retailers, and resellers. Apple Inc. was founded in 1977 and is headquartered in Cupertino, California.', 'city': 'Cupertino', 'phone': '408 996 1010', 'state': 'CA', 'country': 'United States', 'companyOfficers': [], 'website': 'http://www.apple.com', 'maxAge': 1, 'address1': 'One Apple Park Way', 'industry': 'Consumer Electronics', 'ebitdaMargins': 0.32867, 'profitMargins': 0.25882, 'grossMargins': 0.41779, 'operatingCashflow': 104037998592, 'revenueGrowth': 0.288, 'operatingMargins': 0.29782, 'ebitda': 120233000960, 'targetLowPrice': 132, 'recommendationKey': 'buy', 'grossProfits': 152836000000, 'freeCashflow': 76476121088, 'targetMedianPrice': 170, 'currentPrice': 149.8, 'earningsGrowth': 0.679, 'currentRatio': 1.075, 'returnOnAssets': 0.20179, 'numberOfAnalystOpinions': 40, 'targetMeanPrice': 168.84, 'debtToEquity': 197.684, 'returnOnEquity': 1.47443, 'targetHighPrice': 190, 'totalCash': 62639001600, 'totalDebt': 124718997504, 'totalRevenue': 365817004032, 'totalCashPerShare': 3.813, 'financialCurrency': 'USD', 'revenuePerShare': 21.904, 'quickRatio': 0.91, 'recommendationMean': 1.9, 'exchange': 'NMS', 'shortName': 'Apple Inc.', 'longName': 'Apple Inc.', 'exchangeTimezoneName': 'America/New_York', 'exchangeTimezoneShortName': 'EDT', 'isEsgPopulated': False, 'gmtOffSetMilliseconds': '-14400000', 'quoteType': 'EQUITY', 'symbol': 'AAPL', 'messageBoardId': 'finmb_24937', 'market': 'us_market', 'annualHoldingsTurnover': None, 'enterpriseToRevenue': 6.896, 'beta3Year': None, 'enterpriseToEbitda': 20.983, '52WeekChange': 0.377218, 'morningStarRiskRating': None, 'forwardEps': 5.98, 'revenueQuarterlyGrowth': None, 'sharesOutstanding': 16530199552, 'fundInceptionDate': None, 'annualReportExpenseRatio': None, 'totalAssets': None, 'bookValue': 3.841, 'sharesShort': 100881318, 'sharesPercentSharesOut': 0.0061000003, 'fundFamily': None, 'lastFiscalYearEnd': 1632528000, 'heldPercentInstitutions': 0.58625, 'netIncomeToCommon': 94679998464, 'trailingEps': 5.61, 'lastDividendValue': 0.22, 'SandP52WeekChange': 0.39125264, 'priceToBook': 39.00026, 'heldPercentInsiders': 0.00071999995, 'nextFiscalYearEnd': 1695600000, 'yield': None, 'mostRecentQuarter': 1632528000, 'shortRatio': 1.25, 'sharesShortPreviousMonthDate': 1631664000, 'floatShares': 16409866410, 'beta': None, 'enterpriseValue': 2522812514304, 'priceHint': 2, 'threeYearAverageReturn': None, 'lastSplitDate': 1598832000, 'lastSplitFactor': '4:1', 'legalType': None, 'lastDividendDate': 1628208000, 'morningStarOverallRating': None, 'earningsQuarterlyGrowth': 0.622, 'priceToSalesTrailing12Months': 6.769024, 'dateShortInterest': 1634256000, 'pegRatio': 1.35, 'ytdReturn': None, 'forwardPE': 25.050167, 'lastCapGain': None, 'shortPercentOfFloat': 0.0061000003, 'sharesShortPriorMonth': 100926641, 'impliedSharesOutstanding': None, 'category': None, 'fiveYearAverageReturn': None, 'previousClose': 152.57, 'regularMarketOpen': 147.215, 'twoHundredDayAverage': 140.07079, 'trailingAnnualDividendYield': 0.005571213, 'payoutRatio': 0.16309999, 'volume24Hr': None, 'regularMarketDayHigh': 149.935, 'navPrice': None, 'averageDailyVolume10Day': 73271114, 'regularMarketPreviousClose': 152.57, 'fiftyDayAverage': 145.59914, 'trailingAnnualDividendRate': 0.85, 'open': 147.215, 'toCurrency': None, 'averageVolume10days': 73271114, 'expireDate': None, 'algorithm': None, 'dividendRate': 0.88, 'exDividendDate': 1628208000, 'circulatingSupply': None, 'startDate': None, 'regularMarketDayLow': 146.4128, 'currency': 'USD', 'trailingPE': 26.702316, 'regularMarketVolume': 124953168, 'lastMarket': None, 'maxSupply': None, 'openInterest': None, 'marketCap': 2476224020480, 'volumeAllCurrencies': None, 'strikePrice': None, 'averageVolume': 75359889, 'dayLow': 146.4128, 'ask': 149.93, 'askSize': 1100, 'volume': 124953168, 'fiftyTwoWeekHigh': 157.26, 'fromCurrency': None, 'fiveYearAvgDividendYield': 1.22, 'fiftyTwoWeekLow': 107.32, 'bid': 149.91, 'tradeable': False, 'dividendYield': 0.0058999998, 'bidSize': 1100, 'dayHigh': 149.935, 'regularMarketPrice': 149.8, 'preMarketPrice': None, 'logo_url': 'https://logo.clearbit.com/apple.com'}\n",
      "aapl.history(period='1d', interval='1m') = \n",
      "                                  Open        High         Low       Close  \\\n",
      "Datetime                                                                    \n",
      "2021-10-29 09:30:00-04:00  147.214996  148.699997  146.649994  148.563202   \n",
      "2021-10-29 09:31:00-04:00  148.550003  148.649994  147.880905  147.979996   \n",
      "2021-10-29 09:32:00-04:00  147.979996  147.979996  147.059998  147.235596   \n",
      "2021-10-29 09:33:00-04:00  147.235001  147.550003  146.940002  147.179993   \n",
      "2021-10-29 09:34:00-04:00  147.000000  147.149994  147.000000  147.149994   \n",
      "...                               ...         ...         ...         ...   \n",
      "2021-10-29 15:55:00-04:00  149.789993  149.869995  149.770004  149.770004   \n",
      "2021-10-29 15:56:00-04:00  149.774994  149.850006  149.729996  149.824600   \n",
      "2021-10-29 15:57:00-04:00  149.829895  149.929993  149.789993  149.824997   \n",
      "2021-10-29 15:58:00-04:00  149.824997  149.934998  149.800003  149.860001   \n",
      "2021-10-29 15:59:00-04:00  149.860001  149.940002  149.710007  149.800003   \n",
      "\n",
      "                            Volume  Dividends  Stock Splits  \n",
      "Datetime                                                     \n",
      "2021-10-29 09:30:00-04:00  6714799          0             0  \n",
      "2021-10-29 09:31:00-04:00   988693          0             0  \n",
      "2021-10-29 09:32:00-04:00  1092891          0             0  \n",
      "2021-10-29 09:33:00-04:00  1327375          0             0  \n",
      "2021-10-29 09:34:00-04:00   793359          0             0  \n",
      "...                            ...        ...           ...  \n",
      "2021-10-29 15:55:00-04:00   576364          0             0  \n",
      "2021-10-29 15:56:00-04:00   367480          0             0  \n",
      "2021-10-29 15:57:00-04:00   504526          0             0  \n",
      "2021-10-29 15:58:00-04:00   588470          0             0  \n",
      "2021-10-29 15:59:00-04:00   977934          0             0  \n",
      "\n",
      "[390 rows x 7 columns]\n"
     ]
    }
   ],
   "source": [
    "import yfinance as yf\n",
    "\n",
    "aapl = yf.Ticker(\"AAPL\") # create a ticker object\n",
    "print(\"aapl.info = \\n\", aapl.info) # get the ticker information\n",
    "print(\"aapl.history(period='1d', interval='1m') = \\n\", aapl.history(period='1d', interval='1m')) # get the historical data"
   ]
  },
  {
   "cell_type": "markdown",
   "metadata": {},
   "source": [
    "## Resampling"
   ]
  },
  {
   "cell_type": "code",
   "execution_count": 122,
   "metadata": {},
   "outputs": [
    {
     "name": "stdout",
     "output_type": "stream",
     "text": [
      "aapl.history(period='1d', interval='1m').resample('1d').mean() = \n",
      "                                  Open        High         Low       Close  \\\n",
      "Datetime                                                                    \n",
      "2021-10-29 00:00:00-04:00  148.482287  148.549419  148.421998  148.491042   \n",
      "\n",
      "                                  Volume  Dividends  Stock Splits  \n",
      "Datetime                                                           \n",
      "2021-10-29 00:00:00-04:00  277229.230769        0.0           0.0  \n"
     ]
    }
   ],
   "source": [
    "# resampling\n",
    "aapl = yf.Ticker(\"AAPL\")\n",
    "print(\"aapl.history(period='1d', interval='1m').resample('1d').mean() = \\n\", aapl.history(period='1d', interval='1m').resample('1d').mean()) # resample the data to daily\n"
   ]
  },
  {
   "cell_type": "markdown",
   "metadata": {},
   "source": [
    "## DataFrame"
   ]
  },
  {
   "cell_type": "code",
   "execution_count": 123,
   "metadata": {},
   "outputs": [
    {
     "name": "stdout",
     "output_type": "stream",
     "text": [
      "df = \n",
      "       Name  Location  Age\n",
      "0      Bob  New York   22\n",
      "1  Jessica  New York   21\n",
      "2     Mary  New York   23\n",
      "3     John  New York   23\n",
      "4      Mel  New York   22\n",
      "df.index =  RangeIndex(start=0, stop=5, step=1)\n",
      "df.columns =  Index(['Name', 'Location', 'Age'], dtype='object')\n",
      "df.values = \n",
      " [['Bob' 'New York' 22]\n",
      " ['Jessica' 'New York' 21]\n",
      " ['Mary' 'New York' 23]\n",
      " ['John' 'New York' 23]\n",
      " ['Mel' 'New York' 22]]\n",
      "df.T = \n",
      "                  0         1         2         3         4\n",
      "Name           Bob   Jessica      Mary      John       Mel\n",
      "Location  New York  New York  New York  New York  New York\n",
      "Age             22        21        23        23        22\n"
     ]
    }
   ],
   "source": [
    "# example of pandas dataframe\n",
    "data = {'Name': ['Bob', 'Jessica', 'Mary', 'John', 'Mel'],\n",
    "        'Location': ['New York', 'New York', 'New York', 'New York', 'New York'],\n",
    "        'Age': [22, 21, 23, 23, 22]}\n",
    "df = pd.DataFrame(data)\n",
    "print(\"df = \\n\", df)\n",
    "print(\"df.index = \", df.index) # the index of the dataframe\n",
    "print(\"df.columns = \", df.columns) # the columns of the dataframe\n",
    "print(\"df.values = \\n\", df.values) # the values of the dataframe\n",
    "print(\"df.T = \\n\", df.T) # transpose the dataframe"
   ]
  }
 ],
 "metadata": {
  "interpreter": {
   "hash": "3a7680bd3b824c78060cc75ec896c5317da4b750a1ac8daf0f170779dfb86cf6"
  },
  "kernelspec": {
   "display_name": "Python 3.8.10 64-bit ('.venv': venv)",
   "name": "python3"
  },
  "language_info": {
   "codemirror_mode": {
    "name": "ipython",
    "version": 3
   },
   "file_extension": ".py",
   "mimetype": "text/x-python",
   "name": "python",
   "nbconvert_exporter": "python",
   "pygments_lexer": "ipython3",
   "version": "3.8.10"
  },
  "orig_nbformat": 4
 },
 "nbformat": 4,
 "nbformat_minor": 2
}
