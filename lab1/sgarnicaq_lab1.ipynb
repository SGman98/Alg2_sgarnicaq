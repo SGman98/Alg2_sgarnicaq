{
 "cells": [
  {
   "cell_type": "markdown",
   "metadata": {},
   "source": [
    "# 01 Data Types and Data Structures"
   ]
  },
  {
   "cell_type": "markdown",
   "metadata": {},
   "source": [
    "## Basic variable types\n",
    "\n",
    "String concatenation, is done with the + operator.\n",
    "\n",
    "Datatype of a variable can be determined by using the type() function.\n",
    "\n",
    "Datatypes are:\n",
    "- `int`, `float`, `bool`, `str`, `list`, `tuple`, `dict`, `set`, `None`\n",
    "\n",
    "Datatypes can be converted to each other using the following functions:\n",
    "\n",
    "- `int(x)`, `float(x)`, `bool(x)`, `str(x)`, `list(x)`, `tuple(x)`, `dict(x)`, `set(x)`"
   ]
  },
  {
   "cell_type": "code",
   "execution_count": 26,
   "metadata": {},
   "outputs": [
    {
     "name": "stdout",
     "output_type": "stream",
     "text": [
      "Welcome to the Algorithms class 101\n",
      "<class 'str'> Welcome to the Algorithms class 101\n",
      "<class 'str'> 101\n",
      "<class 'int'> 101\n",
      "<class 'float'> 101.0\n",
      "<class 'bool'> False\n"
     ]
    }
   ],
   "source": [
    "# String creation with single and double quotes\n",
    "string_welcome = \"Welcome to the\"\n",
    "string_name = 'Algorithms class'\n",
    "string_num = \"101\"\n",
    "# String concatenation\n",
    "string_welcome_name = string_welcome + \" \" + string_name + \" \" + string_num\n",
    "print(string_welcome_name)\n",
    "# Data type visualisation\n",
    "print(type(string_welcome_name), string_welcome_name)\n",
    "print(type(string_num), string_num)\n",
    "# Data type conversion\n",
    "my_num_int = int(string_num)\n",
    "print(type(my_num_int), str(my_num_int))\n",
    "\n",
    "my_num_float = float(string_num)\n",
    "print(type(my_num_float), str(my_num_float))\n",
    "\n",
    "my_bool = False\n",
    "print(type(my_bool), str(my_bool))"
   ]
  },
  {
   "cell_type": "markdown",
   "metadata": {},
   "source": [
    "## Basic Math Operations\n",
    "Python has a built-in math module with many functions.\n",
    "The basic math operations are:\n",
    "- `+`, `-`, `*`, `/`, `//`, `%`, `**`\n",
    "- addition, subtraction, multiplication, division, floor division, modulo, power"
   ]
  },
  {
   "cell_type": "code",
   "execution_count": 27,
   "metadata": {},
   "outputs": [
    {
     "name": "stdout",
     "output_type": "stream",
     "text": [
      "7 + 3 =  10\n",
      "7 - 3 =  4\n",
      "7 * 3 =  21\n",
      "7 / 3 =  2.3333333333333335\n",
      "7 // 3 =  2\n",
      "7 % 3 =  1\n",
      "7 ** 3 =  343\n",
      "a + b =  11\n",
      "a + b * b =  17\n"
     ]
    }
   ],
   "source": [
    "# Some math examples\n",
    "print(\"7 + 3 = \", 7 + 3)\n",
    "print(\"7 - 3 = \", 7 - 3)\n",
    "print(\"7 * 3 = \", 7 * 3)\n",
    "print(\"7 / 3 = \", 7 / 3)\n",
    "print(\"7 // 3 = \", 7 // 3)\n",
    "print(\"7 % 3 = \", 7 % 3)\n",
    "print(\"7 ** 3 = \", 7 ** 3)\n",
    "# It is possible to use the variables\n",
    "a = 8\n",
    "b = 3\n",
    "print(\"a + b = \", a + b)\n",
    "# And use multiple operations\n",
    "print(\"a + b * b = \", a + b * b)"
   ]
  },
  {
   "cell_type": "markdown",
   "metadata": {},
   "source": [
    "## Data Collections\n",
    "Python has different data structures:\n",
    "- `list`, `tuple`, `dict`, `set`\n",
    "Unlike other languages the datatype of the variables inside this data structures is not specified, and could be different for each variable.\n",
    "\n",
    "### **List:** ordered collection of items. Use with square brackets. a = [1, 2, 3]"
   ]
  },
  {
   "cell_type": "code",
   "execution_count": 28,
   "metadata": {},
   "outputs": [
    {
     "name": "stdout",
     "output_type": "stream",
     "text": [
      "my_list =  [1, 2, 3, 4, 5] length =  5 type =  <class 'list'>\n",
      "my_list[2] =  3\n",
      "my_list_2 =  [1, 2, 3, 4, 5, 'a', 'b', 'c'] length =  8 type =  <class 'list'>\n",
      "my_list_2[2:5] =  [3, 4, 5]\n",
      "my_list + my_list_2 =  [1, 2, 3, 4, 5, 1, 2, 3, 4, 5, 'a', 'b', 'c'] length =  13 type =  <class 'list'>\n"
     ]
    }
   ],
   "source": [
    "# List creation\n",
    "my_list = [1, 2, 3, 4, 5]\n",
    "print(\"my_list = \", my_list, \"length = \", len(my_list), \"type = \", type(my_list))\n",
    "# List indexing\n",
    "print(\"my_list[2] = \", my_list[2])\n",
    "# List multiple data types\n",
    "my_list_2 = [1, 2, 3, 4, 5, \"a\", \"b\", \"c\"]\n",
    "print(\"my_list_2 = \", my_list_2, \"length = \", len(my_list_2), \"type = \", type(my_list_2))\n",
    "# List slicing\n",
    "print(\"my_list_2[2:5] = \", my_list_2[2:5])\n",
    "# List concatenation\n",
    "my_list_3 = my_list + my_list_2\n",
    "print(\"my_list + my_list_2 = \", my_list_3, \"length = \", len(my_list_3), \"type = \", type(my_list_3))\n",
    "# List modification\n",
    "# append, insert, remove, pop, clear, list[index] = value"
   ]
  },
  {
   "cell_type": "markdown",
   "metadata": {},
   "source": [
    "### **Tuple:** ordered collection of items. Use with parentheses. a = (1, 2, 3)"
   ]
  },
  {
   "cell_type": "code",
   "execution_count": 29,
   "metadata": {},
   "outputs": [
    {
     "name": "stdout",
     "output_type": "stream",
     "text": [
      "my_tuple =  (1, 2, 3, 4, 5) length =  5 type =  <class 'tuple'>\n",
      "my_tuple[2] =  3\n",
      "my_tuple_2 =  (1, 2, 3, 4, 5, 'a', 'b', 'c') length =  8 type =  <class 'tuple'>\n",
      "my_tuple_2[2:5] =  (3, 4, 5)\n",
      "my_tuple + my_tuple_2 =  (1, 2, 3, 4, 5, 1, 2, 3, 4, 5, 'a', 'b', 'c') length =  13 type =  <class 'tuple'>\n",
      "my_tuple_4 =  (1, 2, 'a', 4, 5) length =  5 type =  <class 'tuple'>\n"
     ]
    }
   ],
   "source": [
    "# Tuples creation\n",
    "my_tuple = (1, 2, 3, 4, 5)\n",
    "print(\"my_tuple = \", my_tuple, \"length = \", len(my_tuple), \"type = \", type(my_tuple))\n",
    "# Tuples indexing\n",
    "print(\"my_tuple[2] = \", my_tuple[2])\n",
    "# Tuples multiple data types\n",
    "my_tuple_2 = (1, 2, 3, 4, 5, \"a\", \"b\", \"c\")\n",
    "print(\"my_tuple_2 = \", my_tuple_2, \"length = \", len(my_tuple_2), \"type = \", type(my_tuple_2))\n",
    "# Tuples slicing\n",
    "print(\"my_tuple_2[2:5] = \", my_tuple_2[2:5])\n",
    "# Tuples concatenation\n",
    "my_tuple_3 = my_tuple + my_tuple_2\n",
    "print(\"my_tuple + my_tuple_2 = \", my_tuple_3, \"length = \", len(my_tuple_3), \"type = \", type(my_tuple_3))\n",
    "# Tuples are immutable\n",
    "# one workaround is to convert the tuple to list modify it and convert back to tuple\n",
    "my_tuple_4 = list(my_tuple)\n",
    "my_tuple_4[2] = \"a\"\n",
    "my_tuple_4 = tuple(my_tuple_4)\n",
    "print(\"my_tuple_4 = \", my_tuple_4, \"length = \", len(my_tuple_4), \"type = \", type(my_tuple_4))"
   ]
  },
  {
   "cell_type": "markdown",
   "metadata": {},
   "source": [
    "### **Dict:** unordered collection of key-value pairs. Use with curly brackets. a = {'a': 1, 'b': 2}"
   ]
  },
  {
   "cell_type": "code",
   "execution_count": 30,
   "metadata": {},
   "outputs": [
    {
     "name": "stdout",
     "output_type": "stream",
     "text": [
      "my_dict =  {'a': 1, 'b': 2, 'c': 3} length =  3 type =  <class 'dict'>\n",
      "my_dict['a'] =  1\n",
      "my_dict_2 =  {'a': 1, 'b': 2, 'c': 3, 'd': 'a', 'e': 'b', 'f': 'c'} length =  6 type =  <class 'dict'>\n"
     ]
    }
   ],
   "source": [
    "# Dictionaries creation\n",
    "my_dict = {'a': 1, 'b': 2, 'c': 3}\n",
    "print(\"my_dict = \", my_dict, \"length = \", len(my_dict), \"type = \", type(my_dict))\n",
    "# Dictionaries indexing\n",
    "print(\"my_dict['a'] = \", my_dict['a'])\n",
    "# Dictionaries multiple data types\n",
    "my_dict_2 = {'a': 1, 'b': 2, 'c': 3, 'd': \"a\", 'e': \"b\", 'f': \"c\"}\n",
    "print(\"my_dict_2 = \", my_dict_2, \"length = \", len(my_dict_2), \"type = \", type(my_dict_2))\n",
    "# Dictionaries slicing is not possible\n",
    "# Dictionaries concatenation is not possible\n",
    "# Dictionaries modification\n",
    "# update, pop, clear, dict[key] = value"
   ]
  },
  {
   "cell_type": "markdown",
   "metadata": {},
   "source": [
    "### **Set:** unordered collection of unique items. Use with curly brackets. a = {1, 2, 3}"
   ]
  },
  {
   "cell_type": "code",
   "execution_count": 31,
   "metadata": {},
   "outputs": [
    {
     "name": "stdout",
     "output_type": "stream",
     "text": [
      "my_set =  {1, 2, 3, 4, 5} length =  5 type =  <class 'set'>\n",
      "my_set_2 =  {1, 2, 3, 4, 5, 'b', 'c', 'a'} length =  8 type =  <class 'set'>\n"
     ]
    }
   ],
   "source": [
    "# Sets creation\n",
    "my_set = {1, 2, 3, 4, 5}\n",
    "print(\"my_set = \", my_set, \"length = \", len(my_set), \"type = \", type(my_set))\n",
    "# Sets indexing is not possible\n",
    "# Sets multiple data types\n",
    "my_set_2 = {1, 2, 3, 4, 5, \"a\", \"b\", \"c\"}\n",
    "print(\"my_set_2 = \", my_set_2, \"length = \", len(my_set_2), \"type = \", type(my_set_2))\n",
    "# Sets slicing is not possible\n",
    "# Sets concatenation is not possible\n",
    "# Sets modification\n",
    "# add, remove, clear, set[index] = value"
   ]
  },
  {
   "cell_type": "markdown",
   "metadata": {},
   "source": [
    "## Common String Operations\n",
    "Some string operations are:\n",
    "slicing, concatenation, repetition, comparison, formatting, and more."
   ]
  },
  {
   "cell_type": "code",
   "execution_count": 32,
   "metadata": {},
   "outputs": [
    {
     "name": "stdout",
     "output_type": "stream",
     "text": [
      "string_operations =  abcdefghijklmnopqrstuvwxyz length =  26 type =  <class 'str'>\n",
      "string_operations[2:5] =  cde\n",
      "string_operations[2:] =  cdefghijklmnopqrstuvwxyz\n",
      "string_operations[:5] =  abcde\n",
      "string_operations[:] =  abcdefghijklmnopqrstuvwxyz\n",
      "string_operations[-5:] =  vwxyz\n",
      "\n",
      "string_operations.split('c') =  ['ab', 'defghijklmnopqrstuvwxyz']\n",
      "count how many 'c' are in the string →  1\n",
      "find index of 'c' →  2\n",
      "replace the first 'a' with 'x' →  xbcdefghijklmnopqrstuvwxyz\n",
      "\n",
      "%02d:%02d:%02d →  10:09:08\n",
      "'{}:{}:{}'.format(hours,minutes,seconds) →  10:9:8"
     ]
    }
   ],
   "source": [
    "# String slicing\n",
    "string_operations = \"abcdefghijklmnopqrstuvwxyz\"\n",
    "print(\"string_operations = \", string_operations, \"length = \", len(string_operations), \"type = \", type(string_operations))\n",
    "print(\"string_operations[2:5] = \", string_operations[2:5])\n",
    "print(\"string_operations[2:] = \", string_operations[2:])\n",
    "print(\"string_operations[:5] = \", string_operations[:5])\n",
    "print(\"string_operations[:] = \", string_operations[:])\n",
    "print(\"string_operations[-5:] = \", string_operations[-5:])\n",
    "print()\n",
    "# String concatenation already explained\n",
    "# String split\n",
    "print(\"string_operations.split('c') = \", string_operations.split('c'))\n",
    "# String count find and replace\n",
    "print(\"count how many 'c' are in the string → \", string_operations.count('c'))\n",
    "print(\"find index of 'c' → \", string_operations.find('c'))\n",
    "print(\"replace the first 'a' with 'x' → \", string_operations.replace('a', 'x'))\n",
    "print()\n",
    "# String formatting\n",
    "hours = 10\n",
    "minutes = 9\n",
    "seconds = 8\n",
    "print(\"%02d:%02d:%02d → \", \"%02d:%02d:%02d\" % (hours, minutes, seconds))\n",
    "# using the format method\n",
    "print(\"'{}:{}:{}'.format(hours,minutes,seconds) → \", \"{}:{}:{}\".format(hours, minutes, seconds), end=\"\")"
   ]
  },
  {
   "cell_type": "markdown",
   "metadata": {},
   "source": [
    "# 02 Logical Operators and Loops\n",
    "## Logical Operators\n",
    "Logical operators are &&, ||, and !"
   ]
  },
  {
   "cell_type": "code",
   "execution_count": 33,
   "metadata": {},
   "outputs": [
    {
     "name": "stdout",
     "output_type": "stream",
     "text": [
      "a = 1, b = 2\n",
      "a == b →  False\n",
      "a != b →  True\n",
      "a < b →  True\n",
      "a > b →  False\n",
      "a <= b →  True\n",
      "a >= b →  False\n",
      "\n",
      "a == b and a < b False\n",
      "a == b or a < b True\n",
      "not a == b True\n",
      "\n"
     ]
    }
   ],
   "source": [
    "a = 1\n",
    "b = 2\n",
    "print(\"a = {}, b = {}\".format(a, b))\n",
    "print(\"a == b → \", a == b) # False\n",
    "print(\"a != b → \", a != b) # True\n",
    "print(\"a < b → \", a < b) # True\n",
    "print(\"a > b → \", a > b) # False\n",
    "print(\"a <= b → \", a <= b) # True\n",
    "print(\"a >= b → \", a >= b) # False\n",
    "print()\n",
    "# Combining operation results\n",
    "print(\"a == b and a < b\", a == b and a < b) # False\n",
    "print(\"a == b or a < b\", a == b or a < b) # True\n",
    "print(\"not a == b\", not a == b) # True\n",
    "print()"
   ]
  },
  {
   "cell_type": "markdown",
   "metadata": {},
   "source": [
    "## If Statements"
   ]
  },
  {
   "cell_type": "code",
   "execution_count": 34,
   "metadata": {},
   "outputs": [
    {
     "name": "stdout",
     "output_type": "stream",
     "text": [
      "a < b\n"
     ]
    }
   ],
   "source": [
    "if a == b:\n",
    "    print(\"a == b\")\n",
    "elif a < b:\n",
    "    print(\"a < b\")\n",
    "else:\n",
    "    print(\"a != b\")\n",
    "# a == b → False and a < b → True, a != b → True, so the value printed is a < b as it runs in order of the if statements"
   ]
  },
  {
   "cell_type": "markdown",
   "metadata": {},
   "source": [
    "## Loop Structure\n",
    "### While Loop"
   ]
  },
  {
   "cell_type": "code",
   "execution_count": 35,
   "metadata": {},
   "outputs": [
    {
     "name": "stdout",
     "output_type": "stream",
     "text": [
      "5 4 3 2 1 "
     ]
    }
   ],
   "source": [
    "i = 5\n",
    "while i > 0:\n",
    "    print(i, end=\" \")\n",
    "    i -= 1\n",
    "# it will print 5, 4, 3, 2, 1"
   ]
  },
  {
   "cell_type": "markdown",
   "metadata": {},
   "source": [
    "### For Loop"
   ]
  },
  {
   "cell_type": "code",
   "execution_count": 36,
   "metadata": {},
   "outputs": [
    {
     "name": "stdout",
     "output_type": "stream",
     "text": [
      "a b c d e "
     ]
    }
   ],
   "source": [
    "# for loop with range and list\n",
    "list_1 = ['a', 'b', 'c', 'd', 'e']\n",
    "for i in range(len(list_1)):\n",
    "    print(list_1[i], end=\" \")\n",
    "# it will print a, b, c, d, e"
   ]
  },
  {
   "cell_type": "markdown",
   "metadata": {},
   "source": [
    "### Break and Continue\n",
    "The break statement ends the loop.\n",
    "\n",
    "The continue statement skips the rest of the current iteration."
   ]
  },
  {
   "cell_type": "code",
   "execution_count": 37,
   "metadata": {},
   "outputs": [
    {
     "name": "stdout",
     "output_type": "stream",
     "text": [
      "a b \n",
      "a b d e \n",
      "hello world python awesome and "
     ]
    }
   ],
   "source": [
    "# The loop can be breaked out with the break statement\n",
    "list_1 = ['a', 'b', 'c', 'd', 'e']\n",
    "for i in range(len(list_1)):\n",
    "    if i == 2:\n",
    "        break\n",
    "    print(list_1[i], end=\" \")\n",
    "# it will print a, b\n",
    "print()\n",
    "# The loop can be continued with the continue statement\n",
    "list_1 = ['a', 'b', 'c', 'd', 'e']\n",
    "for i in range(len(list_1)):\n",
    "    if i == 2:\n",
    "        continue\n",
    "    print(list_1[i], end=\" \")\n",
    "# it will print a, b, d, e\n",
    "print()\n",
    "\n",
    "# an example of a for loop using break and continue\n",
    "list_random_words = ['hello', 'world', 'python', 'is', 'awesome', 'and', 'I', 'love', 'it']\n",
    "for i in range(len(list_random_words)):\n",
    "    if list_random_words[i] == 'I': # this part breaks the loop at the first 'I'\n",
    "        break\n",
    "    if len(list_random_words[i]) < 3: # this part skips the words with less than 3 characters → 'is' 'I' 'it'\n",
    "        continue\n",
    "    print(list_random_words[i], end=\" \")\n",
    "# it will print → hello world python awesome and"
   ]
  },
  {
   "cell_type": "markdown",
   "metadata": {},
   "source": [
    "## List Comprehension"
   ]
  },
  {
   "cell_type": "code",
   "execution_count": 38,
   "metadata": {},
   "outputs": [
    {
     "name": "stdout",
     "output_type": "stream",
     "text": [
      "list =  [2, 4, 6, 8, 10]\n",
      "list =  ['hello', 'world', 'python', 'awesome', 'love']\n"
     ]
    }
   ],
   "source": [
    "# an example of a list where all the elements are store in other but times 2\n",
    "list_1 = [1, 2, 3, 4, 5]\n",
    "list_2 = [i * 2 for i in list_1]\n",
    "print(\"list = \", list_2)\n",
    "# an example were only the words longer than 3 characters are stored in a new list\n",
    "list_1 = ['hello', 'world', 'python', 'is', 'awesome', 'and', 'I', 'love', 'it']\n",
    "list_2 = [i for i in list_1 if len(i) > 3]\n",
    "print(\"list = \", list_2)"
   ]
  },
  {
   "cell_type": "markdown",
   "metadata": {},
   "source": [
    "# 03 Functions and Objective-Oriented Programming\n",
    "## Functions"
   ]
  },
  {
   "cell_type": "code",
   "execution_count": 42,
   "metadata": {},
   "outputs": [
    {
     "name": "stdout",
     "output_type": "stream",
     "text": [
      "hello world\n",
      "new_function(5, 3) =  8\n",
      "new_function(5, 8) =  -3\n"
     ]
    }
   ],
   "source": [
    "def hello_world():\n",
    "    print(\"hello world\")\n",
    "hello_world()\n",
    "\n",
    "# function with arguments\n",
    "def new_function(x, y):\n",
    "    if x > y:\n",
    "        return x + y\n",
    "    else:\n",
    "        return x - y\n",
    "print(\"new_function(5, 3) = \", new_function(5, 3))\n",
    "print(\"new_function(5, 8) = \", new_function(5, 8 ))\n"
   ]
  },
  {
   "cell_type": "markdown",
   "metadata": {},
   "source": [
    "## Built-in Functions\n",
    "some built-in functions are:\n",
    "- range() len() min() max() sum() print() input() map() ..."
   ]
  },
  {
   "cell_type": "code",
   "execution_count": 50,
   "metadata": {},
   "outputs": [
    {
     "name": "stdout",
     "output_type": "stream",
     "text": [
      "range_1 =  range(0, 10)\n",
      "len(range_1) =  10\n",
      "min(range_1) =  0\n",
      "max(range_1) =  9\n",
      "sum(range_1) =  45\n",
      "range(0, 10)\n",
      "print(range_1) =  None\n",
      "\n",
      "list_1 →  [2, 9, 6, 45, 35, 74, 1, 8, 3, 4]\n",
      "sorted(list_1) →  [1, 2, 3, 4, 6, 8, 9, 35, 45, 74]\n",
      "map all elements * 2 and sort →  [4, 18, 12, 90, 70, 148, 2, 16, 6, 8]\n",
      "filter only the element where x % 2 == 0 →  [2, 6, 74, 8, 4]\n",
      "list_tuples →  [(12, 16, 3), (2, 5, 9), (1, 4, 8), (3, 6, 7)]\n",
      "sorted(list_tuples, key=lambda x: x[2]) →  [(12, 16, 3), (3, 6, 7), (1, 4, 8), (2, 5, 9)]\n"
     ]
    }
   ],
   "source": [
    "# Some examples of built-in functions\n",
    "# range() len() min() max() sum() print() input() map() ...\n",
    "range_1 = range(10)\n",
    "print(\"range_1 = \", range_1)\n",
    "print(\"len(range_1) = \", len(range_1))\n",
    "print(\"min(range_1) = \", min(range_1))\n",
    "print(\"max(range_1) = \", max(range_1))\n",
    "print(\"sum(range_1) = \", sum(range_1))\n",
    "print(\"print(range_1) = \", print(range_1)) # the print function returns None\n",
    "print() # the input function returns the input of the user as a string\n",
    "\n",
    "# example of map, sorted and filter\n",
    "list_1 = [2,9,6,45,35,74,1,8,3,4]\n",
    "print(\"list_1 → \", list_1)\n",
    "print(\"sorted(list_1) → \", sorted(list_1))\n",
    "print(\"map all elements * 2 and sort → \", list(map(lambda x: x * 2, list_1)))\n",
    "print(\"filter only the element where x % 2 == 0 → \", list(filter(lambda x: x % 2 == 0, list_1)))\n",
    "\n",
    "# example of sort list of tuples where the last element is the key\n",
    "list_tuples = [(12,16,3),(2,5,9),(1,4,8),(3,6,7)]\n",
    "print(\"list_tuples → \", list_tuples)\n",
    "print(\"sorted(list_tuples, key=lambda x: x[2]) → \", sorted(list_tuples, key=lambda x: x[2]))"
   ]
  },
  {
   "cell_type": "markdown",
   "metadata": {},
   "source": [
    "## Object-Oriented Programming\n",
    "### Class"
   ]
  },
  {
   "cell_type": "code",
   "execution_count": 66,
   "metadata": {},
   "outputs": [
    {
     "name": "stdout",
     "output_type": "stream",
     "text": [
      "office_1 →  Office name: Office 1, Location: New York\n",
      "office_2 →  Office name: Office 2, Location: Los Angeles\n",
      "\n",
      "office_1 →  Office name: Office 1, Location: Chicago\n",
      "office_2 →  Office name: Office 2, Location: Los Angeles\n",
      "\n",
      "office_1 →  Office name: Office 1*, Location: Chicago\n",
      "office_2 →  Office name: Office 2, Location: Los Angeles\n"
     ]
    },
    {
     "data": {
      "text/plain": [
       "['__class__',\n",
       " '__delattr__',\n",
       " '__dict__',\n",
       " '__dir__',\n",
       " '__doc__',\n",
       " '__eq__',\n",
       " '__format__',\n",
       " '__ge__',\n",
       " '__getattribute__',\n",
       " '__gt__',\n",
       " '__hash__',\n",
       " '__init__',\n",
       " '__init_subclass__',\n",
       " '__le__',\n",
       " '__lt__',\n",
       " '__module__',\n",
       " '__ne__',\n",
       " '__new__',\n",
       " '__reduce__',\n",
       " '__reduce_ex__',\n",
       " '__repr__',\n",
       " '__setattr__',\n",
       " '__sizeof__',\n",
       " '__str__',\n",
       " '__subclasshook__',\n",
       " '__weakref__',\n",
       " 'change_location',\n",
       " 'location',\n",
       " 'name',\n",
       " 'to_string']"
      ]
     },
     "execution_count": 66,
     "metadata": {},
     "output_type": "execute_result"
    }
   ],
   "source": [
    "# example of class\n",
    "class Office:\n",
    "    def __init__(self, name, location):\n",
    "        self.name = name\n",
    "        self.location = location\n",
    "    def to_string(self):\n",
    "        return \"Office name: \" + self.name + \", Location: \" + self.location\n",
    "    def change_location(self, new_location):\n",
    "        self.location = new_location\n",
    "office_1 = Office(\"Office 1\", \"New York\")\n",
    "office_2 = Office(\"Office 2\", \"Los Angeles\")\n",
    "print(\"office_1 → \", office_1.to_string())\n",
    "print(\"office_2 → \", office_2.to_string())\n",
    "print()\n",
    "office_1.change_location(\"Chicago\")\n",
    "print(\"office_1 → \", office_1.to_string())\n",
    "print(\"office_2 → \", office_2.to_string())\n",
    "print()\n",
    "office_1.name = \"Office 1*\"\n",
    "print(\"office_1 → \", office_1.to_string())\n",
    "print(\"office_2 → \", office_2.to_string())\n",
    "dir(office_1) # shows the attributes of the class Office\n"
   ]
  },
  {
   "cell_type": "markdown",
   "metadata": {},
   "source": [
    "### Inheritance"
   ]
  },
  {
   "cell_type": "code",
   "execution_count": 67,
   "metadata": {},
   "outputs": [
    {
     "name": "stdout",
     "output_type": "stream",
     "text": [
      "mini_office_1 →  Office name: Office 1, Location: New York, Size: small\n",
      "mini_office_2 →  Office name: Office 2, Location: Los Angeles, Size: medium\n",
      "\n",
      "mini_office_1 →  Office name: Office 1, Location: Chicago, Size: small\n",
      "mini_office_2 →  Office name: Office 2, Location: Los Angeles, Size: medium\n",
      "\n"
     ]
    }
   ],
   "source": [
    "# Inheritance\n",
    "class mini_office(Office): # the office class is inherited\n",
    "    def __init__(self, name, location, size):\n",
    "        super().__init__(name, location)\n",
    "        self.size = size\n",
    "    def to_string(self): # this method overrides the to_string method of the parent class\n",
    "        return \"Office name: \" + self.name + \", Location: \" + self.location + \", Size: \" + self.size\n",
    "mini_office_1 = mini_office(\"Office 1\", \"New York\", \"small\")\n",
    "mini_office_2 = mini_office(\"Office 2\", \"Los Angeles\", \"medium\")\n",
    "print(\"mini_office_1 → \", mini_office_1.to_string())\n",
    "print(\"mini_office_2 → \", mini_office_2.to_string())\n",
    "print()\n",
    "mini_office_1.change_location(\"Chicago\") # the change_location method is inherited from the office class\n",
    "print(\"mini_office_1 → \", mini_office_1.to_string())\n",
    "print(\"mini_office_2 → \", mini_office_2.to_string())\n",
    "print()"
   ]
  }
 ],
 "metadata": {
  "interpreter": {
   "hash": "3a7680bd3b824c78060cc75ec896c5317da4b750a1ac8daf0f170779dfb86cf6"
  },
  "kernelspec": {
   "display_name": "Python 3.8.10 64-bit ('.venv': venv)",
   "name": "python3"
  },
  "language_info": {
   "codemirror_mode": {
    "name": "ipython",
    "version": 3
   },
   "file_extension": ".py",
   "mimetype": "text/x-python",
   "name": "python",
   "nbconvert_exporter": "python",
   "pygments_lexer": "ipython3",
   "version": "3.8.10"
  },
  "orig_nbformat": 4
 },
 "nbformat": 4,
 "nbformat_minor": 2
}
